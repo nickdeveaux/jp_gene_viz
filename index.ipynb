{
 "cells": [
  {
   "cell_type": "markdown",
   "metadata": {
    "collapsed": true
   },
   "source": [
    "## Network Visualization\n",
    "\n",
    "- The [`examples/ESNetwork_ATAC_priors.ipynb`](./examples/ESNetwork_ATAC_priors.ipynb) notebook displays a single regulatory network using the ATAC-Seq priors and elastic net with stability selection.\n",
    "\n",
    "- The [`examples/ESNetwork_Encode_priors.ipynb`](./examples/ESNetwork_Encode_priors.ipynb) notebook displays a single regulatory network using the ENCODE priors and elastic net with stability selection.\n",
    "\n",
    "- The [`examples/BBSRNetwork.ipynb`](./examples/BBSRNetwork.ipynb) notebook displays a single regulatory network using the ENCODE priors and bbsr algorithm.\n",
    "\n",
    "- The [`examples/Network Pair.ipynb`](./examples/Network Pair.ipynb) notebook compares the regulatory network using the ATAC-Seq priors and stability selection against one using the Encode data for its priors\n"
   ]
  },
  {
   "cell_type": "code",
   "execution_count": null,
   "metadata": {
    "collapsed": true
   },
   "outputs": [],
   "source": []
  }
 ],
 "metadata": {
  "kernelspec": {
   "display_name": "Python 2",
   "language": "python",
   "name": "python2"
  },
  "language_info": {
   "codemirror_mode": {
    "name": "ipython",
    "version": 2
   },
   "file_extension": ".py",
   "mimetype": "text/x-python",
   "name": "python",
   "nbconvert_exporter": "python",
   "pygments_lexer": "ipython2",
   "version": "2.7.12"
  }
 },
 "nbformat": 4,
 "nbformat_minor": 0
}
