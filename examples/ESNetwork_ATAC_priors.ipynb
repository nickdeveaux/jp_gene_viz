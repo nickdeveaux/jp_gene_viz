{
 "cells": [
  {
   "cell_type": "markdown",
   "metadata": {},
   "source": [
    "# The Network Widget\n",
    "\n",
    "The following cells illustrate how to create a visualization for a\n",
    "transcriptional regulatory network using a data file in tab separated values\n",
    "format.\n",
    "\n",
    "Please see [the network overview documentation notebook](../doc/dNetwork%20widget%20overview.ipynb)\n",
    "for a description of the features of this widget."
   ]
  },
  {
   "cell_type": "code",
   "execution_count": 5,
   "metadata": {
    "collapsed": true
   },
   "outputs": [],
   "source": [
    "# Uncomment to run without install in the Binder service.\n",
    "import sys\n",
    "if \"..\" not in sys.path:\n",
    "    sys.path.append(\"..\")"
   ]
  },
  {
   "cell_type": "code",
   "execution_count": 19,
   "metadata": {
    "collapsed": false
   },
   "outputs": [],
   "source": []
  },
  {
   "cell_type": "code",
   "execution_count": 20,
   "metadata": {
    "collapsed": false
   },
   "outputs": [],
   "source": [
    "# Import the python implementation.\n",
    "from jp_gene_viz import dNetwork"
   ]
  },
  {
   "cell_type": "code",
   "execution_count": 22,
   "metadata": {
    "collapsed": false
   },
   "outputs": [
    {
     "data": {
      "text/plain": [
       "<class inferelator_ng.prior.Prior at 0x129a81808>"
      ]
     },
     "execution_count": 22,
     "metadata": {},
     "output_type": "execute_result"
    }
   ],
   "source": [
    "prior.Prior"
   ]
  },
  {
   "cell_type": "code",
   "execution_count": 7,
   "metadata": {
    "collapsed": false
   },
   "outputs": [],
   "source": [
    "# Load the javascript \"client side\" support logic.\n",
    "dNetwork.load_javascript_support()"
   ]
  },
  {
   "cell_type": "code",
   "execution_count": 11,
   "metadata": {
    "collapsed": false,
    "scrolled": true
   },
   "outputs": [
    {
     "name": "stdout",
     "output_type": "stream",
     "text": [
      "('Reading network', 'formatted_subnetwork.tsv')\n",
      "('Loading saved layout', 'formatted_subnetwork.tsv.layout.json')\n",
      "Omitting edges, using canvas, and fast layout default because the network is large\n"
     ]
    }
   ],
   "source": [
    "# Load and display the network.\n",
    "N = dNetwork.display_network(\"formatted_subnetwork.tsv\")\n",
    "N.title_html.value = \"DC subset regulatory network\""
   ]
  },
  {
   "cell_type": "markdown",
   "metadata": {},
   "source": [
    "### Custom colorization\n",
    "\n",
    "The following function demonstrates how the node and edge weights and network colorization\n",
    "may be adjusted to special purpose values.  Such colorization may be useful\n",
    "to highlight node or edge groups of special interest, or for other purposes."
   ]
  },
  {
   "cell_type": "code",
   "execution_count": 7,
   "metadata": {
    "collapsed": false
   },
   "outputs": [],
   "source": [
    "# randomly reset the weight to integers 0..10\n",
    "\n",
    "def adjust_colorization():\n",
    "    import random\n",
    "    G = N.display_graph\n",
    "    nw = G.node_weights\n",
    "    for node in nw.keys():\n",
    "        nw[node] = random.randint(0, 10)\n",
    "    ew = G.edge_weights\n",
    "    for edge in ew.keys():\n",
    "        ew[edge] = random.randint(0,10)\n",
    "    # Use Emily's color scheme, please refer to the source code for more information.\n",
    "    dNetwork.set_node_color_levels(N)\n",
    "    dNetwork.set_edge_color_levels(N)\n",
    "    # redraw\n",
    "    N.draw()"
   ]
  },
  {
   "cell_type": "code",
   "execution_count": 8,
   "metadata": {
    "collapsed": false
   },
   "outputs": [],
   "source": [
    "# Uncomment to change the network colorization\n",
    "#adjust_colorization()"
   ]
  },
  {
   "cell_type": "code",
   "execution_count": null,
   "metadata": {
    "collapsed": true
   },
   "outputs": [],
   "source": [
    "debug"
   ]
  }
 ],
 "metadata": {
  "kernelspec": {
   "display_name": "Python 2",
   "language": "python",
   "name": "python2"
  },
  "language_info": {
   "codemirror_mode": {
    "name": "ipython",
    "version": 2
   },
   "file_extension": ".py",
   "mimetype": "text/x-python",
   "name": "python",
   "nbconvert_exporter": "python",
   "pygments_lexer": "ipython2",
   "version": "2.7.11"
  }
 },
 "nbformat": 4,
 "nbformat_minor": 0
}
